{
 "cells": [
  {
   "cell_type": "code",
   "execution_count": 1,
   "id": "c82dfe41",
   "metadata": {},
   "outputs": [],
   "source": [
    "import pandas as pd\n",
    "import numpy as np\n",
    "import matplotlib.pyplot as plt\n",
    "import seaborn as sns\n",
    "\n",
    "%matplotlib inline\n",
    "import warnings\n",
    "warnings.filterwarnings('ignore')"
   ]
  },
  {
   "cell_type": "markdown",
   "id": "2069eae6",
   "metadata": {},
   "source": [
    "# Loading the dataset"
   ]
  },
  {
   "cell_type": "code",
   "execution_count": 2,
   "id": "4d11ce9e",
   "metadata": {},
   "outputs": [],
   "source": [
    "Advdf = pd.read_csv('Advertising.csv')"
   ]
  },
  {
   "cell_type": "code",
   "execution_count": 3,
   "id": "0fc9fa56",
   "metadata": {},
   "outputs": [
    {
     "data": {
      "text/plain": [
       "(200, 5)"
      ]
     },
     "execution_count": 3,
     "metadata": {},
     "output_type": "execute_result"
    }
   ],
   "source": [
    "Advdf.shape"
   ]
  },
  {
   "cell_type": "code",
   "execution_count": 4,
   "id": "d8639202",
   "metadata": {},
   "outputs": [
    {
     "data": {
      "text/html": [
       "<div>\n",
       "<style scoped>\n",
       "    .dataframe tbody tr th:only-of-type {\n",
       "        vertical-align: middle;\n",
       "    }\n",
       "\n",
       "    .dataframe tbody tr th {\n",
       "        vertical-align: top;\n",
       "    }\n",
       "\n",
       "    .dataframe thead th {\n",
       "        text-align: right;\n",
       "    }\n",
       "</style>\n",
       "<table border=\"1\" class=\"dataframe\">\n",
       "  <thead>\n",
       "    <tr style=\"text-align: right;\">\n",
       "      <th></th>\n",
       "      <th>Unnamed: 0</th>\n",
       "      <th>TV</th>\n",
       "      <th>radio</th>\n",
       "      <th>newspaper</th>\n",
       "      <th>sales</th>\n",
       "    </tr>\n",
       "  </thead>\n",
       "  <tbody>\n",
       "    <tr>\n",
       "      <th>0</th>\n",
       "      <td>1</td>\n",
       "      <td>230.1</td>\n",
       "      <td>37.8</td>\n",
       "      <td>69.2</td>\n",
       "      <td>22.1</td>\n",
       "    </tr>\n",
       "    <tr>\n",
       "      <th>1</th>\n",
       "      <td>2</td>\n",
       "      <td>44.5</td>\n",
       "      <td>39.3</td>\n",
       "      <td>45.1</td>\n",
       "      <td>10.4</td>\n",
       "    </tr>\n",
       "    <tr>\n",
       "      <th>2</th>\n",
       "      <td>3</td>\n",
       "      <td>17.2</td>\n",
       "      <td>45.9</td>\n",
       "      <td>69.3</td>\n",
       "      <td>9.3</td>\n",
       "    </tr>\n",
       "    <tr>\n",
       "      <th>3</th>\n",
       "      <td>4</td>\n",
       "      <td>151.5</td>\n",
       "      <td>41.3</td>\n",
       "      <td>58.5</td>\n",
       "      <td>18.5</td>\n",
       "    </tr>\n",
       "    <tr>\n",
       "      <th>4</th>\n",
       "      <td>5</td>\n",
       "      <td>180.8</td>\n",
       "      <td>10.8</td>\n",
       "      <td>58.4</td>\n",
       "      <td>12.9</td>\n",
       "    </tr>\n",
       "    <tr>\n",
       "      <th>...</th>\n",
       "      <td>...</td>\n",
       "      <td>...</td>\n",
       "      <td>...</td>\n",
       "      <td>...</td>\n",
       "      <td>...</td>\n",
       "    </tr>\n",
       "    <tr>\n",
       "      <th>195</th>\n",
       "      <td>196</td>\n",
       "      <td>38.2</td>\n",
       "      <td>3.7</td>\n",
       "      <td>13.8</td>\n",
       "      <td>7.6</td>\n",
       "    </tr>\n",
       "    <tr>\n",
       "      <th>196</th>\n",
       "      <td>197</td>\n",
       "      <td>94.2</td>\n",
       "      <td>4.9</td>\n",
       "      <td>8.1</td>\n",
       "      <td>9.7</td>\n",
       "    </tr>\n",
       "    <tr>\n",
       "      <th>197</th>\n",
       "      <td>198</td>\n",
       "      <td>177.0</td>\n",
       "      <td>9.3</td>\n",
       "      <td>6.4</td>\n",
       "      <td>12.8</td>\n",
       "    </tr>\n",
       "    <tr>\n",
       "      <th>198</th>\n",
       "      <td>199</td>\n",
       "      <td>283.6</td>\n",
       "      <td>42.0</td>\n",
       "      <td>66.2</td>\n",
       "      <td>25.5</td>\n",
       "    </tr>\n",
       "    <tr>\n",
       "      <th>199</th>\n",
       "      <td>200</td>\n",
       "      <td>232.1</td>\n",
       "      <td>8.6</td>\n",
       "      <td>8.7</td>\n",
       "      <td>13.4</td>\n",
       "    </tr>\n",
       "  </tbody>\n",
       "</table>\n",
       "<p>200 rows × 5 columns</p>\n",
       "</div>"
      ],
      "text/plain": [
       "     Unnamed: 0     TV  radio  newspaper  sales\n",
       "0             1  230.1   37.8       69.2   22.1\n",
       "1             2   44.5   39.3       45.1   10.4\n",
       "2             3   17.2   45.9       69.3    9.3\n",
       "3             4  151.5   41.3       58.5   18.5\n",
       "4             5  180.8   10.8       58.4   12.9\n",
       "..          ...    ...    ...        ...    ...\n",
       "195         196   38.2    3.7       13.8    7.6\n",
       "196         197   94.2    4.9        8.1    9.7\n",
       "197         198  177.0    9.3        6.4   12.8\n",
       "198         199  283.6   42.0       66.2   25.5\n",
       "199         200  232.1    8.6        8.7   13.4\n",
       "\n",
       "[200 rows x 5 columns]"
      ]
     },
     "execution_count": 4,
     "metadata": {},
     "output_type": "execute_result"
    }
   ],
   "source": [
    "Advdf"
   ]
  },
  {
   "cell_type": "code",
   "execution_count": 5,
   "id": "42d9d5a6",
   "metadata": {},
   "outputs": [],
   "source": [
    "Advdf.drop(columns = 'Unnamed: 0',inplace = True) # dropping the unnecessary \"Unnamed:0\" column"
   ]
  },
  {
   "cell_type": "code",
   "execution_count": 6,
   "id": "6026d903",
   "metadata": {},
   "outputs": [
    {
     "data": {
      "text/html": [
       "<div>\n",
       "<style scoped>\n",
       "    .dataframe tbody tr th:only-of-type {\n",
       "        vertical-align: middle;\n",
       "    }\n",
       "\n",
       "    .dataframe tbody tr th {\n",
       "        vertical-align: top;\n",
       "    }\n",
       "\n",
       "    .dataframe thead th {\n",
       "        text-align: right;\n",
       "    }\n",
       "</style>\n",
       "<table border=\"1\" class=\"dataframe\">\n",
       "  <thead>\n",
       "    <tr style=\"text-align: right;\">\n",
       "      <th></th>\n",
       "      <th>TV</th>\n",
       "      <th>radio</th>\n",
       "      <th>newspaper</th>\n",
       "      <th>sales</th>\n",
       "    </tr>\n",
       "  </thead>\n",
       "  <tbody>\n",
       "    <tr>\n",
       "      <th>0</th>\n",
       "      <td>230.1</td>\n",
       "      <td>37.8</td>\n",
       "      <td>69.2</td>\n",
       "      <td>22.1</td>\n",
       "    </tr>\n",
       "    <tr>\n",
       "      <th>1</th>\n",
       "      <td>44.5</td>\n",
       "      <td>39.3</td>\n",
       "      <td>45.1</td>\n",
       "      <td>10.4</td>\n",
       "    </tr>\n",
       "    <tr>\n",
       "      <th>2</th>\n",
       "      <td>17.2</td>\n",
       "      <td>45.9</td>\n",
       "      <td>69.3</td>\n",
       "      <td>9.3</td>\n",
       "    </tr>\n",
       "    <tr>\n",
       "      <th>3</th>\n",
       "      <td>151.5</td>\n",
       "      <td>41.3</td>\n",
       "      <td>58.5</td>\n",
       "      <td>18.5</td>\n",
       "    </tr>\n",
       "    <tr>\n",
       "      <th>4</th>\n",
       "      <td>180.8</td>\n",
       "      <td>10.8</td>\n",
       "      <td>58.4</td>\n",
       "      <td>12.9</td>\n",
       "    </tr>\n",
       "    <tr>\n",
       "      <th>...</th>\n",
       "      <td>...</td>\n",
       "      <td>...</td>\n",
       "      <td>...</td>\n",
       "      <td>...</td>\n",
       "    </tr>\n",
       "    <tr>\n",
       "      <th>195</th>\n",
       "      <td>38.2</td>\n",
       "      <td>3.7</td>\n",
       "      <td>13.8</td>\n",
       "      <td>7.6</td>\n",
       "    </tr>\n",
       "    <tr>\n",
       "      <th>196</th>\n",
       "      <td>94.2</td>\n",
       "      <td>4.9</td>\n",
       "      <td>8.1</td>\n",
       "      <td>9.7</td>\n",
       "    </tr>\n",
       "    <tr>\n",
       "      <th>197</th>\n",
       "      <td>177.0</td>\n",
       "      <td>9.3</td>\n",
       "      <td>6.4</td>\n",
       "      <td>12.8</td>\n",
       "    </tr>\n",
       "    <tr>\n",
       "      <th>198</th>\n",
       "      <td>283.6</td>\n",
       "      <td>42.0</td>\n",
       "      <td>66.2</td>\n",
       "      <td>25.5</td>\n",
       "    </tr>\n",
       "    <tr>\n",
       "      <th>199</th>\n",
       "      <td>232.1</td>\n",
       "      <td>8.6</td>\n",
       "      <td>8.7</td>\n",
       "      <td>13.4</td>\n",
       "    </tr>\n",
       "  </tbody>\n",
       "</table>\n",
       "<p>200 rows × 4 columns</p>\n",
       "</div>"
      ],
      "text/plain": [
       "        TV  radio  newspaper  sales\n",
       "0    230.1   37.8       69.2   22.1\n",
       "1     44.5   39.3       45.1   10.4\n",
       "2     17.2   45.9       69.3    9.3\n",
       "3    151.5   41.3       58.5   18.5\n",
       "4    180.8   10.8       58.4   12.9\n",
       "..     ...    ...        ...    ...\n",
       "195   38.2    3.7       13.8    7.6\n",
       "196   94.2    4.9        8.1    9.7\n",
       "197  177.0    9.3        6.4   12.8\n",
       "198  283.6   42.0       66.2   25.5\n",
       "199  232.1    8.6        8.7   13.4\n",
       "\n",
       "[200 rows x 4 columns]"
      ]
     },
     "execution_count": 6,
     "metadata": {},
     "output_type": "execute_result"
    }
   ],
   "source": [
    "Advdf"
   ]
  },
  {
   "cell_type": "markdown",
   "id": "c72f6acd",
   "metadata": {},
   "source": [
    "# Getting the basic summary and statistical information of data"
   ]
  },
  {
   "cell_type": "code",
   "execution_count": 7,
   "id": "cef8be68",
   "metadata": {},
   "outputs": [
    {
     "name": "stdout",
     "output_type": "stream",
     "text": [
      "<class 'pandas.core.frame.DataFrame'>\n",
      "RangeIndex: 200 entries, 0 to 199\n",
      "Data columns (total 4 columns):\n",
      " #   Column     Non-Null Count  Dtype  \n",
      "---  ------     --------------  -----  \n",
      " 0   TV         200 non-null    float64\n",
      " 1   radio      200 non-null    float64\n",
      " 2   newspaper  200 non-null    float64\n",
      " 3   sales      200 non-null    float64\n",
      "dtypes: float64(4)\n",
      "memory usage: 6.4 KB\n"
     ]
    }
   ],
   "source": [
    "Advdf.info()"
   ]
  },
  {
   "cell_type": "code",
   "execution_count": 9,
   "id": "975ee35e",
   "metadata": {},
   "outputs": [
    {
     "data": {
      "text/html": [
       "<div>\n",
       "<style scoped>\n",
       "    .dataframe tbody tr th:only-of-type {\n",
       "        vertical-align: middle;\n",
       "    }\n",
       "\n",
       "    .dataframe tbody tr th {\n",
       "        vertical-align: top;\n",
       "    }\n",
       "\n",
       "    .dataframe thead th {\n",
       "        text-align: right;\n",
       "    }\n",
       "</style>\n",
       "<table border=\"1\" class=\"dataframe\">\n",
       "  <thead>\n",
       "    <tr style=\"text-align: right;\">\n",
       "      <th></th>\n",
       "      <th>TV</th>\n",
       "      <th>radio</th>\n",
       "      <th>newspaper</th>\n",
       "      <th>sales</th>\n",
       "    </tr>\n",
       "  </thead>\n",
       "  <tbody>\n",
       "    <tr>\n",
       "      <th>count</th>\n",
       "      <td>200.000000</td>\n",
       "      <td>200.000000</td>\n",
       "      <td>200.000000</td>\n",
       "      <td>200.000000</td>\n",
       "    </tr>\n",
       "    <tr>\n",
       "      <th>mean</th>\n",
       "      <td>147.042500</td>\n",
       "      <td>23.264000</td>\n",
       "      <td>30.554000</td>\n",
       "      <td>14.022500</td>\n",
       "    </tr>\n",
       "    <tr>\n",
       "      <th>std</th>\n",
       "      <td>85.854236</td>\n",
       "      <td>14.846809</td>\n",
       "      <td>21.778621</td>\n",
       "      <td>5.217457</td>\n",
       "    </tr>\n",
       "    <tr>\n",
       "      <th>min</th>\n",
       "      <td>0.700000</td>\n",
       "      <td>0.000000</td>\n",
       "      <td>0.300000</td>\n",
       "      <td>1.600000</td>\n",
       "    </tr>\n",
       "    <tr>\n",
       "      <th>25%</th>\n",
       "      <td>74.375000</td>\n",
       "      <td>9.975000</td>\n",
       "      <td>12.750000</td>\n",
       "      <td>10.375000</td>\n",
       "    </tr>\n",
       "    <tr>\n",
       "      <th>50%</th>\n",
       "      <td>149.750000</td>\n",
       "      <td>22.900000</td>\n",
       "      <td>25.750000</td>\n",
       "      <td>12.900000</td>\n",
       "    </tr>\n",
       "    <tr>\n",
       "      <th>75%</th>\n",
       "      <td>218.825000</td>\n",
       "      <td>36.525000</td>\n",
       "      <td>45.100000</td>\n",
       "      <td>17.400000</td>\n",
       "    </tr>\n",
       "    <tr>\n",
       "      <th>max</th>\n",
       "      <td>296.400000</td>\n",
       "      <td>49.600000</td>\n",
       "      <td>114.000000</td>\n",
       "      <td>27.000000</td>\n",
       "    </tr>\n",
       "  </tbody>\n",
       "</table>\n",
       "</div>"
      ],
      "text/plain": [
       "               TV       radio   newspaper       sales\n",
       "count  200.000000  200.000000  200.000000  200.000000\n",
       "mean   147.042500   23.264000   30.554000   14.022500\n",
       "std     85.854236   14.846809   21.778621    5.217457\n",
       "min      0.700000    0.000000    0.300000    1.600000\n",
       "25%     74.375000    9.975000   12.750000   10.375000\n",
       "50%    149.750000   22.900000   25.750000   12.900000\n",
       "75%    218.825000   36.525000   45.100000   17.400000\n",
       "max    296.400000   49.600000  114.000000   27.000000"
      ]
     },
     "execution_count": 9,
     "metadata": {},
     "output_type": "execute_result"
    }
   ],
   "source": [
    "Advdf.describe()"
   ]
  },
  {
   "cell_type": "markdown",
   "id": "b718b83c",
   "metadata": {},
   "source": [
    "# DataFrame Description\n",
    "\n",
    "The distribution strategy and the channel design have to be right the first time, when a company enters a market.\n",
    "\n",
    "An effective distribution strategy under efficient supply-chain management, as well as market know-how and customer knowledge and understanding open doors for attaining competetive advantage and strong brand equity in the market.It is component of the marketing mix that cannot be ignored.\n",
    "\n",
    "The case study of sales channel includes the detailed study of TV, radio and newspaper channel. They predict the total sales generated from all the sales channel. Featurs contain data about amount of money spent on adverstising on media and channel.\n",
    "\n",
    "TV\n",
    "\n",
    "Radio\n",
    "\n",
    "NewsPaper\n",
    "\n",
    "Target variable/ Label is about the total sales made as a response to the combination of amounts spend on advertising on media and channel\n",
    "\n",
    "Sales\n"
   ]
  },
  {
   "cell_type": "markdown",
   "id": "0f85f7c5",
   "metadata": {},
   "source": [
    "# Checking null value"
   ]
  },
  {
   "cell_type": "code",
   "execution_count": 10,
   "id": "4e02d3df",
   "metadata": {},
   "outputs": [
    {
     "data": {
      "text/plain": [
       "TV           0\n",
       "radio        0\n",
       "newspaper    0\n",
       "sales        0\n",
       "dtype: int64"
      ]
     },
     "execution_count": 10,
     "metadata": {},
     "output_type": "execute_result"
    }
   ],
   "source": [
    "Advdf.isnull().sum()"
   ]
  },
  {
   "cell_type": "markdown",
   "id": "d1ef116c",
   "metadata": {},
   "source": [
    "There are no values missing from the dataset\n",
    "\n",
    "# Checking for 0 values in dataset"
   ]
  },
  {
   "cell_type": "code",
   "execution_count": 11,
   "id": "3179377c",
   "metadata": {},
   "outputs": [
    {
     "data": {
      "text/plain": [
       "TV           0\n",
       "radio        1\n",
       "newspaper    0\n",
       "sales        0\n",
       "dtype: int64"
      ]
     },
     "execution_count": 11,
     "metadata": {},
     "output_type": "execute_result"
    }
   ],
   "source": [
    "(Advdf==0).sum()"
   ]
  },
  {
   "cell_type": "markdown",
   "id": "b1f2d9cd",
   "metadata": {},
   "source": [
    "\"Radio\" has a \"0\" value"
   ]
  },
  {
   "cell_type": "markdown",
   "id": "3ec8aed2",
   "metadata": {},
   "source": [
    "# Interpreting relationship between dependent and independent"
   ]
  },
  {
   "cell_type": "markdown",
   "id": "b9b4b5a4",
   "metadata": {},
   "source": [
    "# Visualising Target value"
   ]
  },
  {
   "cell_type": "code",
   "execution_count": 12,
   "id": "fac04e02",
   "metadata": {},
   "outputs": [
    {
     "data": {
      "text/plain": [
       "<AxesSubplot:xlabel='sales', ylabel='Density'>"
      ]
     },
     "execution_count": 12,
     "metadata": {},
     "output_type": "execute_result"
    },
    {
     "data": {
      "image/png": "[encoded data removed]",
      "text/plain": [
       "<Figure size 432x288 with 1 Axes>"
      ]
     },
     "metadata": {
      "needs_background": "light"
     },
     "output_type": "display_data"
    }
   ],
   "source": [
    "sns.distplot(Advdf['sales'])"
   ]
  },
  {
   "cell_type": "code",
   "execution_count": 13,
   "id": "66b643c9",
   "metadata": {},
   "outputs": [
    {
     "data": {
      "text/plain": [
       "0.4075714250767127"
      ]
     },
     "execution_count": 13,
     "metadata": {},
     "output_type": "execute_result"
    }
   ],
   "source": [
    "Advdf['sales'].skew()"
   ]
  },
  {
   "cell_type": "markdown",
   "id": "51dfb2d1",
   "metadata": {},
   "source": [
    "Label data is fairly normally distributed"
   ]
  },
  {
   "cell_type": "code",
   "execution_count": 14,
   "id": "989b48ed",
   "metadata": {},
   "outputs": [],
   "source": [
    "x = Advdf.drop(columns=['sales'])\n",
    "y = Advdf['sales']"
   ]
  },
  {
   "cell_type": "code",
   "execution_count": 15,
   "id": "5693bcbe",
   "metadata": {},
   "outputs": [
    {
     "data": {
      "image/png": "[encoded data removed]",
      "text/plain": [
       "<Figure size 1440x1800 with 3 Axes>"
      ]
     },
     "metadata": {},
     "output_type": "display_data"
    }
   ],
   "source": [
    "plt.figure(figsize=(20,25),facecolor = 'white')\n",
    "plotnum=1\n",
    "\n",
    "for col in x:\n",
    "    if plotnum<=8:\n",
    "        plt.subplot(4,4,plotnum)\n",
    "        sns.scatterplot(y,x[col])\n",
    "        plt.xlabel('sales',fontsize = 20)\n",
    "        plt.ylabel(col,fontsize = 20)\n",
    "    plotnum+=1\n",
    "plt.tight_layout()"
   ]
  },
  {
   "cell_type": "markdown",
   "id": "15aea779",
   "metadata": {},
   "source": [
    "It is observed that there is a positive linear relationship between \"TV\" and \"Sales\", \"Radio\" and \"Sales\""
   ]
  },
  {
   "cell_type": "code",
   "execution_count": 16,
   "id": "7201ef20",
   "metadata": {},
   "outputs": [
    {
     "data": {
      "text/plain": [
       "<Figure size 1440x1800 with 0 Axes>"
      ]
     },
     "metadata": {},
     "output_type": "display_data"
    },
    {
     "data": {
      "image/png": "[encoded data removed]",
      "text/plain": [
       "<Figure size 360x360 with 1 Axes>"
      ]
     },
     "metadata": {
      "needs_background": "light"
     },
     "output_type": "display_data"
    },
    {
     "data": {
      "image/png": "[encoded data removed]",
      "text/plain": [
       "<Figure size 360x360 with 1 Axes>"
      ]
     },
     "metadata": {
      "needs_background": "light"
     },
     "output_type": "display_data"
    }
   ],
   "source": [
    "plt.figure(figsize = (20,25),facecolor = 'white')\n",
    "sns.lmplot(x = 'TV',y='sales',data = Advdf)\n",
    "sns.lmplot(x = 'radio',y = 'sales',data = Advdf)\n",
    "plt.tight_layout()"
   ]
  },
  {
   "cell_type": "markdown",
   "id": "8c5218d1",
   "metadata": {},
   "source": [
    "# Finding correlation"
   ]
  },
  {
   "cell_type": "code",
   "execution_count": 17,
   "id": "9973ab87",
   "metadata": {},
   "outputs": [
    {
     "data": {
      "text/html": [
       "<div>\n",
       "<style scoped>\n",
       "    .dataframe tbody tr th:only-of-type {\n",
       "        vertical-align: middle;\n",
       "    }\n",
       "\n",
       "    .dataframe tbody tr th {\n",
       "        vertical-align: top;\n",
       "    }\n",
       "\n",
       "    .dataframe thead th {\n",
       "        text-align: right;\n",
       "    }\n",
       "</style>\n",
       "<table border=\"1\" class=\"dataframe\">\n",
       "  <thead>\n",
       "    <tr style=\"text-align: right;\">\n",
       "      <th></th>\n",
       "      <th>TV</th>\n",
       "      <th>radio</th>\n",
       "      <th>newspaper</th>\n",
       "      <th>sales</th>\n",
       "    </tr>\n",
       "  </thead>\n",
       "  <tbody>\n",
       "    <tr>\n",
       "      <th>TV</th>\n",
       "      <td>1.000000</td>\n",
       "      <td>0.054809</td>\n",
       "      <td>0.056648</td>\n",
       "      <td>0.782224</td>\n",
       "    </tr>\n",
       "    <tr>\n",
       "      <th>radio</th>\n",
       "      <td>0.054809</td>\n",
       "      <td>1.000000</td>\n",
       "      <td>0.354104</td>\n",
       "      <td>0.576223</td>\n",
       "    </tr>\n",
       "    <tr>\n",
       "      <th>newspaper</th>\n",
       "      <td>0.056648</td>\n",
       "      <td>0.354104</td>\n",
       "      <td>1.000000</td>\n",
       "      <td>0.228299</td>\n",
       "    </tr>\n",
       "    <tr>\n",
       "      <th>sales</th>\n",
       "      <td>0.782224</td>\n",
       "      <td>0.576223</td>\n",
       "      <td>0.228299</td>\n",
       "      <td>1.000000</td>\n",
       "    </tr>\n",
       "  </tbody>\n",
       "</table>\n",
       "</div>"
      ],
      "text/plain": [
       "                 TV     radio  newspaper     sales\n",
       "TV         1.000000  0.054809   0.056648  0.782224\n",
       "radio      0.054809  1.000000   0.354104  0.576223\n",
       "newspaper  0.056648  0.354104   1.000000  0.228299\n",
       "sales      0.782224  0.576223   0.228299  1.000000"
      ]
     },
     "execution_count": 17,
     "metadata": {},
     "output_type": "execute_result"
    }
   ],
   "source": [
    "a_corr = Advdf.corr()\n",
    "a_corr"
   ]
  },
  {
   "cell_type": "code",
   "execution_count": 19,
   "id": "7f84fafe",
   "metadata": {},
   "outputs": [
    {
     "data": {
      "image/png": "[encoded data removed]",
      "text/plain": [
       "<Figure size 720x720 with 2 Axes>"
      ]
     },
     "metadata": {
      "needs_background": "light"
     },
     "output_type": "display_data"
    }
   ],
   "source": [
    "plt.figure(figsize = (10,10))\n",
    "sns.heatmap(a_corr,annot = True,linewidth=1)\n",
    "plt.show()"
   ]
  },
  {
   "cell_type": "markdown",
   "id": "fc400a42",
   "metadata": {},
   "source": [
    "\"Sales\" has the highest correlation with \"TV\" followed by \"Radio\" and bit weak correlation with \"Newspaper\""
   ]
  },
  {
   "cell_type": "markdown",
   "id": "26233720",
   "metadata": {},
   "source": [
    "# Visualising correlation of feature columns with label column"
   ]
  },
  {
   "cell_type": "code",
   "execution_count": 23,
   "id": "2cfd30e0",
   "metadata": {},
   "outputs": [
    {
     "data": {
      "image/png": "[encoded data removed]",
      "text/plain": [
       "<Figure size 1080x1296 with 1 Axes>"
      ]
     },
     "metadata": {
      "needs_background": "light"
     },
     "output_type": "display_data"
    }
   ],
   "source": [
    "plt.figure(figsize = (15,18))\n",
    "\n",
    "Advdf.corr()['sales'].sort_values(ascending = False).drop(['sales']).plot(kind='bar',color = 'c')\n",
    "\n",
    "plt.xlabel('Features',fontsize=15)\n",
    "plt.ylabel('sales',fontsize = 15)\n",
    "plt.title('correlation',fontsize = 20)\n",
    "plt.show()"
   ]
  },
  {
   "cell_type": "markdown",
   "id": "0688eefb",
   "metadata": {},
   "source": [
    "As per above chart it is cleary showing Sales has the highest correlation with TV and weakest correlation with Newspaper\n",
    "\n",
    "\n",
    "# Checking for Skewness and presence of outliers in Feature data"
   ]
  },
  {
   "cell_type": "code",
   "execution_count": 24,
   "id": "590fa3e2",
   "metadata": {},
   "outputs": [
    {
     "data": {
      "text/plain": [
       "TV          -0.069853\n",
       "radio        0.094175\n",
       "newspaper    0.894720\n",
       "sales        0.407571\n",
       "dtype: float64"
      ]
     },
     "execution_count": 24,
     "metadata": {},
     "output_type": "execute_result"
    }
   ],
   "source": [
    "Advdf.skew()"
   ]
  },
  {
   "cell_type": "markdown",
   "id": "e10094a1",
   "metadata": {},
   "source": [
    "Data distribution in 'newspaper' is skewed"
   ]
  },
  {
   "cell_type": "code",
   "execution_count": 26,
   "id": "14b81600",
   "metadata": {},
   "outputs": [
    {
     "data": {
      "text/plain": [
       "<AxesSubplot:xlabel='newspaper', ylabel='Density'>"
      ]
     },
     "execution_count": 26,
     "metadata": {},
     "output_type": "execute_result"
    },
    {
     "data": {
      "image/png": "[encoded data removed]",
      "text/plain": [
       "<Figure size 432x288 with 1 Axes>"
      ]
     },
     "metadata": {
      "needs_background": "light"
     },
     "output_type": "display_data"
    }
   ],
   "source": [
    "sns.distplot(Advdf['newspaper'])"
   ]
  },
  {
   "cell_type": "markdown",
   "id": "425cbfec",
   "metadata": {},
   "source": [
    "Data distribution in 'newspaper' is right skewed\n",
    "\n",
    "# Checking for outliers"
   ]
  },
  {
   "cell_type": "code",
   "execution_count": 27,
   "id": "f1dacf9f",
   "metadata": {},
   "outputs": [
    {
     "data": {
      "image/png": "[encoded data removed]",
      "text/plain": [
       "<Figure size 1440x1800 with 3 Axes>"
      ]
     },
     "metadata": {},
     "output_type": "display_data"
    }
   ],
   "source": [
    "plt.figure(figsize = (20,25),facecolor='white')\n",
    "plotnum=1\n",
    "\n",
    "for col in x:\n",
    "    if plotnum<=8:\n",
    "        plt.subplot(4,4,plotnum)\n",
    "        sns.boxplot(x[col])\n",
    "        plt.xlabel(col,fontsize=20)\n",
    "        \n",
    "    plotnum+=1\n",
    "plt.tight_layout()"
   ]
  },
  {
   "cell_type": "markdown",
   "id": "c2935cb7",
   "metadata": {},
   "source": [
    "\"Newspaper\" column has some outliers.\n",
    "\n",
    "# Removing outliers with using IQR method"
   ]
  },
  {
   "cell_type": "code",
   "execution_count": 28,
   "id": "c08c8c0b",
   "metadata": {},
   "outputs": [],
   "source": [
    "df = Advdf.copy()"
   ]
  },
  {
   "cell_type": "code",
   "execution_count": 31,
   "id": "f6b30515",
   "metadata": {},
   "outputs": [],
   "source": [
    "indexdrop = np.array([])\n",
    "\n",
    "q1 = df['newspaper'].quantile(0.25)\n",
    "q3 = df['newspaper'].quantile(0.75)\n",
    "iqr = q3-q1\n",
    "upperval = q3 + (1.5*iqr)\n",
    "lowerval = q1 - (1.5*iqr)\n",
    "col = df['newspaper']\n",
    "indx = col[(col>upperval) | (col <lowerval)].index\n",
    "indexdrop  = np.append(indexdrop, indx)"
   ]
  },
  {
   "cell_type": "code",
   "execution_count": 32,
   "id": "b3c798b2",
   "metadata": {},
   "outputs": [
    {
     "data": {
      "text/plain": [
       "array([ 16., 101.])"
      ]
     },
     "execution_count": 32,
     "metadata": {},
     "output_type": "execute_result"
    }
   ],
   "source": [
    "indexdrop"
   ]
  },
  {
   "cell_type": "code",
   "execution_count": 33,
   "id": "2a370618",
   "metadata": {},
   "outputs": [],
   "source": [
    "df = df.drop(indx)"
   ]
  },
  {
   "cell_type": "code",
   "execution_count": 34,
   "id": "2958ae70",
   "metadata": {},
   "outputs": [
    {
     "data": {
      "image/png": "[encoded data removed]",
      "text/plain": [
       "<Figure size 1080x1080 with 1 Axes>"
      ]
     },
     "metadata": {
      "needs_background": "light"
     },
     "output_type": "display_data"
    }
   ],
   "source": [
    "df.boxplot(figsize = [15,15])\n",
    "plt.show()"
   ]
  },
  {
   "cell_type": "code",
   "execution_count": 35,
   "id": "fbeb707a",
   "metadata": {},
   "outputs": [
    {
     "data": {
      "text/plain": [
       "(198, 4)"
      ]
     },
     "execution_count": 35,
     "metadata": {},
     "output_type": "execute_result"
    }
   ],
   "source": [
    "df.shape"
   ]
  },
  {
   "cell_type": "code",
   "execution_count": 36,
   "id": "0549ea17",
   "metadata": {},
   "outputs": [
    {
     "data": {
      "text/plain": [
       "(200, 4)"
      ]
     },
     "execution_count": 36,
     "metadata": {},
     "output_type": "execute_result"
    }
   ],
   "source": [
    "Advdf.shape"
   ]
  },
  {
   "cell_type": "markdown",
   "id": "ea491a38",
   "metadata": {},
   "source": [
    "# Data Loss checking"
   ]
  },
  {
   "cell_type": "code",
   "execution_count": 37,
   "id": "20bde81d",
   "metadata": {},
   "outputs": [],
   "source": [
    "loss = (200-198)/200*100"
   ]
  },
  {
   "cell_type": "code",
   "execution_count": 38,
   "id": "f06eec35",
   "metadata": {},
   "outputs": [
    {
     "data": {
      "text/plain": [
       "1.0"
      ]
     },
     "execution_count": 38,
     "metadata": {},
     "output_type": "execute_result"
    }
   ],
   "source": [
    "loss"
   ]
  },
  {
   "cell_type": "markdown",
   "id": "61b2ffd0",
   "metadata": {},
   "source": [
    "# 1% of data loss is acceptable"
   ]
  },
  {
   "cell_type": "markdown",
   "id": "46f73cac",
   "metadata": {},
   "source": [
    "# Using Z score"
   ]
  },
  {
   "cell_type": "code",
   "execution_count": 39,
   "id": "6f1159fa",
   "metadata": {},
   "outputs": [],
   "source": [
    "df2 = Advdf.copy()"
   ]
  },
  {
   "cell_type": "code",
   "execution_count": 40,
   "id": "92c378e4",
   "metadata": {},
   "outputs": [],
   "source": [
    "from scipy.stats import zscore\n",
    "zscor = zscore(df2)\n",
    "z_score_abs = np.abs(zscor)\n",
    "\n",
    "df3 = df2[(z_score_abs < 3).all(axis=1)]  #taking 3 as threshold value"
   ]
  },
  {
   "cell_type": "code",
   "execution_count": 41,
   "id": "2138d075",
   "metadata": {},
   "outputs": [
    {
     "data": {
      "text/plain": [
       "(198, 4)"
      ]
     },
     "execution_count": 41,
     "metadata": {},
     "output_type": "execute_result"
    }
   ],
   "source": [
    "df3.shape"
   ]
  },
  {
   "cell_type": "code",
   "execution_count": 42,
   "id": "112c0515",
   "metadata": {},
   "outputs": [
    {
     "data": {
      "text/plain": [
       "(200, 4)"
      ]
     },
     "execution_count": 42,
     "metadata": {},
     "output_type": "execute_result"
    }
   ],
   "source": [
    "Advdf.shape"
   ]
  },
  {
   "cell_type": "markdown",
   "id": "a686d78b",
   "metadata": {},
   "source": [
    "# Data Loss checking"
   ]
  },
  {
   "cell_type": "code",
   "execution_count": 43,
   "id": "509b26e3",
   "metadata": {},
   "outputs": [
    {
     "data": {
      "text/plain": [
       "1.0"
      ]
     },
     "execution_count": 43,
     "metadata": {},
     "output_type": "execute_result"
    }
   ],
   "source": [
    "loss = (200-198)/200*100\n",
    "loss"
   ]
  },
  {
   "cell_type": "code",
   "execution_count": 44,
   "id": "27ebeb7d",
   "metadata": {},
   "outputs": [],
   "source": [
    "Advdf = df.copy()"
   ]
  },
  {
   "cell_type": "code",
   "execution_count": 45,
   "id": "ee66fb45",
   "metadata": {},
   "outputs": [
    {
     "data": {
      "text/plain": [
       "(198, 4)"
      ]
     },
     "execution_count": 45,
     "metadata": {},
     "output_type": "execute_result"
    }
   ],
   "source": [
    "Advdf.shape"
   ]
  },
  {
   "cell_type": "code",
   "execution_count": 46,
   "id": "868b0041",
   "metadata": {},
   "outputs": [
    {
     "data": {
      "text/plain": [
       "TV          -0.082332\n",
       "radio        0.114842\n",
       "newspaper    0.650112\n",
       "sales        0.407130\n",
       "dtype: float64"
      ]
     },
     "execution_count": 46,
     "metadata": {},
     "output_type": "execute_result"
    }
   ],
   "source": [
    "Advdf.skew()"
   ]
  },
  {
   "cell_type": "code",
   "execution_count": 51,
   "id": "7601bda6",
   "metadata": {},
   "outputs": [
    {
     "data": {
      "image/png": "[encoded data removed]",
      "text/plain": [
       "<Figure size 1296x1440 with 4 Axes>"
      ]
     },
     "metadata": {},
     "output_type": "display_data"
    }
   ],
   "source": [
    "plt.figure(figsize = (18,20),facecolor = 'white')\n",
    "plotnum = 1\n",
    "\n",
    "for col in Advdf:\n",
    "    if plotnum <=10:\n",
    "        plt.subplot(4,5,plotnum)\n",
    "        sns.distplot(Advdf[col])\n",
    "        plt.xlabel(col,fontsize = 20)\n",
    "    plotnum +=1\n",
    "plt.show()\n",
    "\n",
    "        "
   ]
  },
  {
   "cell_type": "markdown",
   "id": "dc1d3a84",
   "metadata": {},
   "source": [
    "Outliers removal has reduced the Skewness to some.\n",
    "\n",
    "# Reducing Skewness further\n",
    "\n",
    "# Normalising data distribution\n",
    "\n",
    "Replacing '0' value with their respective column median using simple imputer"
   ]
  },
  {
   "cell_type": "code",
   "execution_count": 52,
   "id": "8b5e8333",
   "metadata": {},
   "outputs": [],
   "source": [
    "from sklearn.impute import SimpleImputer"
   ]
  },
  {
   "cell_type": "code",
   "execution_count": 53,
   "id": "e5af6c7e",
   "metadata": {},
   "outputs": [
    {
     "data": {
      "text/plain": [
       "TV           0\n",
       "radio        1\n",
       "newspaper    0\n",
       "sales        0\n",
       "dtype: int64"
      ]
     },
     "execution_count": 53,
     "metadata": {},
     "output_type": "execute_result"
    }
   ],
   "source": [
    "(Advdf==0).sum()"
   ]
  },
  {
   "cell_type": "code",
   "execution_count": 54,
   "id": "039b93f5",
   "metadata": {},
   "outputs": [],
   "source": [
    "si = SimpleImputer(missing_values = 0,strategy = 'most_frequent', verbose = 0)"
   ]
  },
  {
   "cell_type": "markdown",
   "id": "da09442d",
   "metadata": {},
   "source": [
    "Imputing the '0' value with most frequently occuring value in the 'radio' column"
   ]
  },
  {
   "cell_type": "code",
   "execution_count": 55,
   "id": "6ccf7895",
   "metadata": {},
   "outputs": [],
   "source": [
    "feat = ['radio']"
   ]
  },
  {
   "cell_type": "code",
   "execution_count": 56,
   "id": "ed16b86b",
   "metadata": {},
   "outputs": [],
   "source": [
    "si = si.fit(Advdf[feat])"
   ]
  },
  {
   "cell_type": "code",
   "execution_count": 57,
   "id": "0d8cff52",
   "metadata": {},
   "outputs": [],
   "source": [
    "Advdf[feat] = si.transform(Advdf[feat])"
   ]
  },
  {
   "cell_type": "code",
   "execution_count": 58,
   "id": "759eeeb3",
   "metadata": {},
   "outputs": [
    {
     "data": {
      "text/plain": [
       "TV           0\n",
       "radio        0\n",
       "newspaper    0\n",
       "sales        0\n",
       "dtype: int64"
      ]
     },
     "execution_count": 58,
     "metadata": {},
     "output_type": "execute_result"
    }
   ],
   "source": [
    "(Advdf==0).sum()"
   ]
  },
  {
   "cell_type": "markdown",
   "id": "283d2376",
   "metadata": {},
   "source": [
    "# Normalising Data Distribution using Power Transformer"
   ]
  },
  {
   "cell_type": "code",
   "execution_count": 59,
   "id": "2ed84bce",
   "metadata": {},
   "outputs": [],
   "source": [
    "from sklearn.preprocessing import PowerTransformer"
   ]
  },
  {
   "cell_type": "code",
   "execution_count": 61,
   "id": "d9f20245",
   "metadata": {},
   "outputs": [],
   "source": [
    "powertrans = PowerTransformer(method = 'yeo-johnson', standardize = True)"
   ]
  },
  {
   "cell_type": "code",
   "execution_count": 62,
   "id": "9a7b6c3a",
   "metadata": {},
   "outputs": [],
   "source": [
    "skew = ['newspaper']"
   ]
  },
  {
   "cell_type": "code",
   "execution_count": 65,
   "id": "6dea1d58",
   "metadata": {},
   "outputs": [],
   "source": [
    "df4 = Advdf[skew]"
   ]
  },
  {
   "cell_type": "code",
   "execution_count": 66,
   "id": "ad60235a",
   "metadata": {},
   "outputs": [
    {
     "data": {
      "text/html": [
       "<div>\n",
       "<style scoped>\n",
       "    .dataframe tbody tr th:only-of-type {\n",
       "        vertical-align: middle;\n",
       "    }\n",
       "\n",
       "    .dataframe tbody tr th {\n",
       "        vertical-align: top;\n",
       "    }\n",
       "\n",
       "    .dataframe thead th {\n",
       "        text-align: right;\n",
       "    }\n",
       "</style>\n",
       "<table border=\"1\" class=\"dataframe\">\n",
       "  <thead>\n",
       "    <tr style=\"text-align: right;\">\n",
       "      <th></th>\n",
       "      <th>newspaper</th>\n",
       "    </tr>\n",
       "  </thead>\n",
       "  <tbody>\n",
       "    <tr>\n",
       "      <th>0</th>\n",
       "      <td>69.2</td>\n",
       "    </tr>\n",
       "    <tr>\n",
       "      <th>1</th>\n",
       "      <td>45.1</td>\n",
       "    </tr>\n",
       "    <tr>\n",
       "      <th>2</th>\n",
       "      <td>69.3</td>\n",
       "    </tr>\n",
       "    <tr>\n",
       "      <th>3</th>\n",
       "      <td>58.5</td>\n",
       "    </tr>\n",
       "    <tr>\n",
       "      <th>4</th>\n",
       "      <td>58.4</td>\n",
       "    </tr>\n",
       "    <tr>\n",
       "      <th>...</th>\n",
       "      <td>...</td>\n",
       "    </tr>\n",
       "    <tr>\n",
       "      <th>195</th>\n",
       "      <td>13.8</td>\n",
       "    </tr>\n",
       "    <tr>\n",
       "      <th>196</th>\n",
       "      <td>8.1</td>\n",
       "    </tr>\n",
       "    <tr>\n",
       "      <th>197</th>\n",
       "      <td>6.4</td>\n",
       "    </tr>\n",
       "    <tr>\n",
       "      <th>198</th>\n",
       "      <td>66.2</td>\n",
       "    </tr>\n",
       "    <tr>\n",
       "      <th>199</th>\n",
       "      <td>8.7</td>\n",
       "    </tr>\n",
       "  </tbody>\n",
       "</table>\n",
       "<p>198 rows × 1 columns</p>\n",
       "</div>"
      ],
      "text/plain": [
       "     newspaper\n",
       "0         69.2\n",
       "1         45.1\n",
       "2         69.3\n",
       "3         58.5\n",
       "4         58.4\n",
       "..         ...\n",
       "195       13.8\n",
       "196        8.1\n",
       "197        6.4\n",
       "198       66.2\n",
       "199        8.7\n",
       "\n",
       "[198 rows x 1 columns]"
      ]
     },
     "execution_count": 66,
     "metadata": {},
     "output_type": "execute_result"
    }
   ],
   "source": [
    "df4"
   ]
  },
  {
   "cell_type": "code",
   "execution_count": 67,
   "id": "ab6587d5",
   "metadata": {},
   "outputs": [],
   "source": [
    "transformed = powertrans.fit_transform(df4)"
   ]
  },
  {
   "cell_type": "code",
   "execution_count": 68,
   "id": "046ae7da",
   "metadata": {},
   "outputs": [],
   "source": [
    "transformed = pd.DataFrame(transformed, columns = df4.columns) # to convert numpy array back into dataframe"
   ]
  },
  {
   "cell_type": "code",
   "execution_count": 71,
   "id": "caae3754",
   "metadata": {},
   "outputs": [
    {
     "data": {
      "text/plain": [
       "newspaper    0\n",
       "dtype: int64"
      ]
     },
     "execution_count": 71,
     "metadata": {},
     "output_type": "execute_result"
    }
   ],
   "source": [
    "transformed.isnull().sum()"
   ]
  },
  {
   "cell_type": "code",
   "execution_count": 72,
   "id": "6122f8fa",
   "metadata": {},
   "outputs": [
    {
     "data": {
      "text/plain": [
       "newspaper   -0.101288\n",
       "dtype: float64"
      ]
     },
     "execution_count": 72,
     "metadata": {},
     "output_type": "execute_result"
    }
   ],
   "source": [
    "transformed.skew()"
   ]
  },
  {
   "cell_type": "code",
   "execution_count": 73,
   "id": "ef0e30b7",
   "metadata": {},
   "outputs": [],
   "source": [
    "transformed.index = Advdf.index"
   ]
  },
  {
   "cell_type": "code",
   "execution_count": 74,
   "id": "51dc07f0",
   "metadata": {},
   "outputs": [],
   "source": [
    "Advdf[skew] = transformed[skew]"
   ]
  },
  {
   "cell_type": "code",
   "execution_count": 75,
   "id": "7f737c7f",
   "metadata": {},
   "outputs": [
    {
     "data": {
      "text/plain": [
       "TV          -0.082332\n",
       "radio        0.119916\n",
       "newspaper   -0.101288\n",
       "sales        0.407130\n",
       "dtype: float64"
      ]
     },
     "execution_count": 75,
     "metadata": {},
     "output_type": "execute_result"
    }
   ],
   "source": [
    "Advdf.skew()"
   ]
  },
  {
   "cell_type": "code",
   "execution_count": 76,
   "id": "5268c4ad",
   "metadata": {},
   "outputs": [
    {
     "data": {
      "image/png": "[encoded data removed]",
      "text/plain": [
       "<Figure size 1296x1440 with 4 Axes>"
      ]
     },
     "metadata": {},
     "output_type": "display_data"
    }
   ],
   "source": [
    "plt.figure(figsize = (18,20),facecolor = 'white')\n",
    "plotnum = 1\n",
    "\n",
    "for col in Advdf:\n",
    "    if plotnum <=10:\n",
    "        plt.subplot(4,5,plotnum)\n",
    "        sns.distplot(Advdf[col])\n",
    "        plt.xlabel(col,fontsize = 20)\n",
    "    plotnum +=1\n",
    "plt.show()"
   ]
  },
  {
   "cell_type": "markdown",
   "id": "0a527541",
   "metadata": {},
   "source": [
    "# Distribution look much more normalised "
   ]
  },
  {
   "cell_type": "code",
   "execution_count": 77,
   "id": "d27b4b75",
   "metadata": {},
   "outputs": [],
   "source": [
    "x = Advdf.drop(columns = 'sales')\n",
    "y = Advdf['sales']"
   ]
  },
  {
   "cell_type": "markdown",
   "id": "0b6fb94f",
   "metadata": {},
   "source": [
    "# This is a regression problem since the target column (sales) has continuous data. "
   ]
  },
  {
   "cell_type": "markdown",
   "id": "4d34ecba",
   "metadata": {},
   "source": [
    "Feature Selection"
   ]
  },
  {
   "cell_type": "code",
   "execution_count": 78,
   "id": "13be69c8",
   "metadata": {},
   "outputs": [],
   "source": [
    "from sklearn.preprocessing import StandardScaler"
   ]
  },
  {
   "cell_type": "code",
   "execution_count": 80,
   "id": "414ea980",
   "metadata": {},
   "outputs": [],
   "source": [
    "scaler = StandardScaler()\n",
    "scaled_x = scaler.fit_transform(x)"
   ]
  },
  {
   "cell_type": "code",
   "execution_count": 81,
   "id": "aa71616c",
   "metadata": {},
   "outputs": [
    {
     "data": {
      "text/plain": [
       "array([[ 0.97869734,  0.99009409,  1.6041965 ],\n",
       "       [-1.19901165,  1.09147939,  0.83104401],\n",
       "       [-1.51933199,  1.53757474,  1.60705249],\n",
       "       [ 0.05645636,  1.2266598 ,  1.28376774],\n",
       "       [ 0.40024339, -0.83484143,  1.28062154],\n",
       "       [-1.61906543,  1.74034535,  1.76610727],\n",
       "       [-1.04647815,  0.65214306, -0.10205346],\n",
       "       [-0.31079737, -0.24004764, -0.84968895],\n",
       "       [-1.62023876, -1.42287621, -2.09866461],\n",
       "       [ 0.62317696, -1.38908111, -0.22649933],\n",
       "       [-0.94557138, -1.17279246, -0.06553382],\n",
       "       [ 0.79800381,  0.05734926, -1.59608414],\n",
       "       [-1.44189191,  0.80760053,  1.50859232],\n",
       "       [-0.57714432, -1.05113009, -1.23269654],\n",
       "       [ 0.67363035,  0.65890208,  0.86367455],\n",
       "       [ 0.57155024,  1.65923711,  1.1026083 ],\n",
       "       [ 1.58061798,  1.11175645,  1.19771741],\n",
       "       [-0.90919801, -0.17921645, -0.39458775],\n",
       "       [ 0.0071763 ,  0.05059024, -0.346834  ],\n",
       "       [ 0.84141719,  0.30743302,  1.11921444],\n",
       "       [ 1.06435076, -1.2201056 , -0.10205346],\n",
       "       [-1.56626537, -0.49013139,  0.99069777],\n",
       "       [ 0.95757732, -0.42254119,  0.0356758 ],\n",
       "       [-0.99015809, -0.71317907, -0.39458775],\n",
       "       [ 1.36355108, -1.32824993, -0.32336998],\n",
       "       [-0.04445042,  0.41557735, -0.7740548 ],\n",
       "       [ 1.0960308 , -0.43605923, -0.13384051],\n",
       "       [ 1.19811091,  0.2668789 , -0.13384051],\n",
       "       [-0.89277132, -0.48337237,  0.66980347],\n",
       "       [ 1.71555146,  0.34798714,  0.76092313],\n",
       "       [-0.39645079, -0.38874608,  0.58357284],\n",
       "       [-0.58066432, -1.46343034,  0.21669702],\n",
       "       [ 1.39523112, -0.21301155, -2.2758464 ],\n",
       "       [-0.59826434, -1.47018936, -1.21299201],\n",
       "       [ 1.6897381 , -1.2876958 , -1.10919482],\n",
       "       [ 1.41048447,  1.39563531, -1.4708598 ],\n",
       "       [-0.8446646 ,  1.77414046,  0.85283827],\n",
       "       [-1.21543833,  0.23984282,  0.44045973],\n",
       "       [ 0.95405731,  0.98333506,  0.30682057],\n",
       "       [ 0.65485699, -0.05755408,  0.28905461],\n",
       "       [ 0.35565668,  0.69269719,  0.58755182],\n",
       "       [ 1.7237648 ,  0.30743302, -1.93614969],\n",
       "       [ 0.70648372, -0.99705792,  0.04555612],\n",
       "       [-1.42663856,  0.17225261,  0.76465678],\n",
       "       [ 0.33336332, -0.04403604,  0.2845934 ],\n",
       "       [-0.66866442, -0.89567262,  0.46554742],\n",
       "       [ 1.09368413,  1.24017784, -0.38254334],\n",
       "       [ 0.94467064, -0.49689041,  1.00104316],\n",
       "       [-0.9361847 , -0.77401025,  0.51093113],\n",
       "       [ 0.62317696, -1.35528601,  0.41936802],\n",
       "       [-0.54311762, -0.91594968, -1.65023317],\n",
       "       [ 0.8179505 ,  1.25369588,  0.62310406],\n",
       "       [ 0.42136341,  1.5578518 ,  1.29005095],\n",
       "       [ 1.36120441,  0.38178225, -0.54515187],\n",
       "       [ 0.61261695,  1.77414046,  1.33059751],\n",
       "       [-1.63549211,  0.3344691 ,  0.6928619 ],\n",
       "       [-0.12306383, -0.26708372, -0.50002298],\n",
       "       [ 0.75224376,  1.7876585 ,  0.54749686],\n",
       "       [ 0.75107043,  0.42909539, -1.03801781],\n",
       "       [-1.09341154, -1.42963523, -0.21538949],\n",
       "       [ 1.34477773,  1.32128609,  1.16198054],\n",
       "       [ 1.08664412, -0.51716747,  0.08950799],\n",
       "       [-0.51613092,  0.43585441, -1.11833294],\n",
       "       [-0.1829039 ,  1.32804511,  0.16568658],\n",
       "       [-0.91154467, -0.93622674, -2.12148202],\n",
       "       [-1.35154514,  0.09790339, -1.86501   ],\n",
       "       [-0.08669046, -0.58475768, -0.96167639],\n",
       "       [ 1.06435076,  0.29391498, -0.89675177],\n",
       "       [ 0.82264384,  1.40239433,  0.08466485],\n",
       "       [ 0.61496362,  0.50344461,  0.58755182],\n",
       "       [-0.43282416, -0.59827572,  0.29350789],\n",
       "       [-1.40669187,  0.6656611 , -0.33506848],\n",
       "       [-0.20285059, -1.17955148,  0.27564704],\n",
       "       [ 0.78275046,  0.09790339, -0.73744518],\n",
       "       [-1.52285199,  1.38887629,  2.13937255],\n",
       "       [-1.39847853, -1.45667131, -0.25453031],\n",
       "       [-0.30727736,  0.36150518, -0.65947105],\n",
       "       [-1.65778547,  0.45613147, -1.02934918],\n",
       "       [-0.36007742, -1.04437107, -0.12319395],\n",
       "       [-0.82471792,  0.23984282, -0.16609367],\n",
       "       [ 1.09251079, -1.2876958 ,  0.51501874],\n",
       "       [-0.8376246 , -0.19273449,  0.32885333],\n",
       "       [-0.91858468,  1.44294845,  0.46138274],\n",
       "       [ 0.7839238 ,  1.34156315,  0.38526098],\n",
       "       [ 0.54573688, -0.32115588,  1.50271112],\n",
       "       [-0.82589125,  0.29391498, -0.53863938],\n",
       "       [-0.42226415,  1.17934666,  1.42831665],\n",
       "       [-0.6850911 ,  0.15873457,  1.72217946],\n",
       "       [-0.43282416,  1.66599613,  1.05224719],\n",
       "       [-0.14535719, -1.23362364, -1.03801781],\n",
       "       [-1.38557185, -1.46343034,  0.35069626],\n",
       "       [ 0.83320385,  0.69945621,  1.29945293],\n",
       "       [ 1.22275093,  0.90222682,  1.69166052],\n",
       "       [-0.46098419, -0.61855278, -0.90472726],\n",
       "       [ 0.19490984,  0.57103482,  1.1026083 ],\n",
       "       [ 0.5973636 , -1.32824993, -1.36815587],\n",
       "       [ 0.44835011, -0.14542135, -0.18240095],\n",
       "       [ 1.67800475,  1.29425001,  1.04546953],\n",
       "       [-0.13479718,  1.25369588,  0.86006693],\n",
       "       [ 0.88835058, -1.27417776,  0.99759864],\n",
       "       [ 1.56653796, -0.88215458, -0.21538949],\n",
       "       [ 0.48355014, -0.40226413, -0.41889554],\n",
       "       [ 1.07373744,  0.75352837, -1.43568966],\n",
       "       [-0.10311715,  1.57136984,  1.29945293],\n",
       "       [-1.42781189, -0.82132339,  0.20289058],\n",
       "       [-0.66045107, -1.54453858, -0.11788987],\n",
       "       [-1.56743871, -1.53777956,  0.00577961],\n",
       "       [ 1.27555099,  0.25336086, -1.41277956],\n",
       "       [ 0.92824395, -1.01057597,  1.22025052],\n",
       "       [ 1.11480415,  1.00361213, -0.11788987],\n",
       "       [ 0.34040333, -0.52392649, -1.83137048],\n",
       "       [ 0.73816375, -0.17245743, -0.9207956 ],\n",
       "       [-0.80359789,  1.59840593,  0.41512911],\n",
       "       [-0.83997127,  0.80084151,  1.09594084],\n",
       "       [-0.0878638 , -0.59827572,  0.00577961],\n",
       "       [-0.82471792, -1.51074348, -0.61831443],\n",
       "       [-0.24626397,  0.9292629 ,  1.87892616],\n",
       "       [-1.49351863, -0.48337237, -0.16609367],\n",
       "       [-0.06322377,  0.24660184,  0.87087647],\n",
       "       [-1.50055864, -0.09810821,  1.01820721],\n",
       "       [ 0.90712393, -1.40259915, -0.56482448],\n",
       "       [-0.27677067,  0.77380543, -0.78891695],\n",
       "       [ 0.97165733,  0.61834796,  1.7442111 ],\n",
       "       [-0.69799778, -0.76725123,  0.02077604],\n",
       "       [-1.62962544,  1.06444331,  1.02504572],\n",
       "       [-0.7801312 , -1.2876958 , -1.04673537],\n",
       "       [ 0.86371055,  1.74710437, -1.70718676],\n",
       "       [-1.02183813, -0.75373319,  0.75718457],\n",
       "       [-1.7129322 ,  1.11175645, -1.09108448],\n",
       "       [ 1.39053778, -1.36880405,  0.7534411 ],\n",
       "       [-1.62258543,  0.27363792, -1.88228781],\n",
       "       [ 0.85784388,  0.69945621,  0.83104401],\n",
       "       [-1.28818508,  1.04416625,  1.49976669],\n",
       "       [-1.15442493,  1.61192397, -1.10919482],\n",
       "       [-1.42077188,  1.07120233, -1.03801781],\n",
       "       [ 1.49027122,  0.38854127,  1.32128542],\n",
       "       [-1.21661167,  0.18577065, -0.2658475 ],\n",
       "       [ 0.44835011,  1.40239433, -1.95484304],\n",
       "       [-0.85991795, -0.41578217, -0.75199725],\n",
       "       [ 0.55160355,  0.82787759,  1.78244184],\n",
       "       [ 0.86605722,  0.67917915,  0.55555544],\n",
       "       [-0.49383756, -1.17955148,  0.41088327],\n",
       "       [-0.59239767, -0.56448062,  0.59549238],\n",
       "       [-0.07495712, -1.43639425, -1.06432036],\n",
       "       [ 1.0960308 , -1.07140715, -1.09108448],\n",
       "       [ 1.13240417,  1.74710437,  0.80172759],\n",
       "       [-1.2752784 ,  1.1590696 , -0.82664429],\n",
       "       [-1.19666498,  0.17901163, -0.26018131],\n",
       "       [ 1.57240464, -0.6253118 ,  0.51910011],\n",
       "       [-0.30141069, -0.99705792,  0.95944652],\n",
       "       [ 0.5973636 ,  0.01003612, -0.65947105],\n",
       "       [ 0.2887766 ,  1.11851547,  0.54749686],\n",
       "       [ 0.48237681, -0.13866233, -1.02072873],\n",
       "       [-1.67303882, -0.78076927, -1.39027462],\n",
       "       [-0.61938436,  1.37535825,  1.02162839],\n",
       "       [ 0.03650967, -1.47694838, -0.06036496],\n",
       "       [-1.58386539,  0.9292629 ,  0.83468776],\n",
       "       [-0.17586389, -0.32115588,  0.41936802],\n",
       "       [ 0.30285662, -0.34143294,  0.24861364],\n",
       "       [-0.7155978 ,  0.85491368,  0.98031676],\n",
       "       [ 0.48941682, -0.34143294,  0.00577961],\n",
       "       [ 0.19725651,  0.92250388, -1.21299201],\n",
       "       [-0.34599741, -0.57123964, -1.42418272],\n",
       "       [ 1.03032406, -1.33500895,  2.02414625],\n",
       "       [-1.51111865,  0.97657604, -0.20433701],\n",
       "       [ 0.70531038, -1.21334658, -0.32921092],\n",
       "       [ 0.80621716,  0.03031318,  1.25534066],\n",
       "       [ 1.61464468, -0.84835947, -1.31443661],\n",
       "       [-1.13447825, -0.78076927, -0.38855655],\n",
       "       [ 0.20898985, -0.15218037,  0.91372099],\n",
       "       [-1.49117196, -0.20625253, -0.47470116],\n",
       "       [ 0.2547499 , -1.08492519, -0.75931882],\n",
       "       [ 0.88835058, -1.33500895, -0.73744518],\n",
       "       [ 1.52781792,  1.74034535,  0.70812926],\n",
       "       [ 1.19341757,  0.47640853, -0.27722588],\n",
       "       [ 0.27586992, -1.03761205,  0.44465771],\n",
       "       [ 1.52547125, -1.40935817, -0.09155822],\n",
       "       [ 0.22189653, -0.8889136 , -0.43732278],\n",
       "       [ 0.11629642, -1.38908111, -1.12752759],\n",
       "       [ 0.84259053, -1.19982854,  0.09434122],\n",
       "       [-1.0617315 , -1.17955148,  0.20289058],\n",
       "       [ 1.65336472,  1.34156315,  1.67770049],\n",
       "       [ 1.25677764, -0.12514429,  0.21669702],\n",
       "       [ 0.68419036,  1.48350258, -0.31754553],\n",
       "       [-0.08434379, -1.42287621,  0.05539471],\n",
       "       [ 0.52109685,  0.37502323, -0.40063711],\n",
       "       [ 1.63459137, -0.6253118 , -1.63644784],\n",
       "       [-1.50173197, -0.74697417, -0.1073197 ],\n",
       "       [-1.25767838,  1.21314176, -1.3791681 ],\n",
       "       [-0.83527793, -0.83484143, -1.3572358 ],\n",
       "       [-1.51933199, -1.2876958 ,  0.28905461],\n",
       "       [ 0.23597655,  1.27397294, -1.65023317],\n",
       "       [ 0.03533633,  0.84139564, -1.3572358 ],\n",
       "       [-1.27293173, -1.31473189, -0.68743455],\n",
       "       [-0.61586436, -1.23362364, -1.14609038],\n",
       "       [ 0.35565668, -0.93622674, -1.31443661],\n",
       "       [ 1.60643134,  1.27397294,  1.51739504],\n",
       "       [ 1.00216403, -0.98353988, -1.09108448]])"
      ]
     },
     "execution_count": 81,
     "metadata": {},
     "output_type": "execute_result"
    }
   ],
   "source": [
    "scaled_x"
   ]
  },
  {
   "cell_type": "markdown",
   "id": "cf12917a",
   "metadata": {},
   "source": [
    "# Checking for multicolinearity using variance inflation factor"
   ]
  },
  {
   "cell_type": "code",
   "execution_count": 82,
   "id": "48632059",
   "metadata": {},
   "outputs": [],
   "source": [
    "from statsmodels.stats.outliers_influence import variance_inflation_factor"
   ]
  },
  {
   "cell_type": "code",
   "execution_count": 83,
   "id": "f9c13e44",
   "metadata": {},
   "outputs": [],
   "source": [
    "vif = pd.DataFrame()"
   ]
  },
  {
   "cell_type": "code",
   "execution_count": 86,
   "id": "a8b500de",
   "metadata": {},
   "outputs": [],
   "source": [
    "vif[\"Features\"] = x.columns\n",
    "vif['vif'] = [variance_inflation_factor(scaled_x,i) for i in range(scaled_x.shape[1])]"
   ]
  },
  {
   "cell_type": "code",
   "execution_count": 87,
   "id": "0c07c126",
   "metadata": {},
   "outputs": [
    {
     "data": {
      "text/html": [
       "<div>\n",
       "<style scoped>\n",
       "    .dataframe tbody tr th:only-of-type {\n",
       "        vertical-align: middle;\n",
       "    }\n",
       "\n",
       "    .dataframe tbody tr th {\n",
       "        vertical-align: top;\n",
       "    }\n",
       "\n",
       "    .dataframe thead th {\n",
       "        text-align: right;\n",
       "    }\n",
       "</style>\n",
       "<table border=\"1\" class=\"dataframe\">\n",
       "  <thead>\n",
       "    <tr style=\"text-align: right;\">\n",
       "      <th></th>\n",
       "      <th>Features</th>\n",
       "      <th>vif</th>\n",
       "    </tr>\n",
       "  </thead>\n",
       "  <tbody>\n",
       "    <tr>\n",
       "      <th>0</th>\n",
       "      <td>TV</td>\n",
       "      <td>1.003201</td>\n",
       "    </tr>\n",
       "    <tr>\n",
       "      <th>1</th>\n",
       "      <td>radio</td>\n",
       "      <td>1.097709</td>\n",
       "    </tr>\n",
       "    <tr>\n",
       "      <th>2</th>\n",
       "      <td>newspaper</td>\n",
       "      <td>1.096463</td>\n",
       "    </tr>\n",
       "  </tbody>\n",
       "</table>\n",
       "</div>"
      ],
      "text/plain": [
       "    Features       vif\n",
       "0         TV  1.003201\n",
       "1      radio  1.097709\n",
       "2  newspaper  1.096463"
      ]
     },
     "execution_count": 87,
     "metadata": {},
     "output_type": "execute_result"
    }
   ],
   "source": [
    "vif"
   ]
  },
  {
   "cell_type": "markdown",
   "id": "799909ca",
   "metadata": {},
   "source": [
    "There is no multicollinearity"
   ]
  },
  {
   "cell_type": "markdown",
   "id": "31933d08",
   "metadata": {},
   "source": [
    "# Selecting Kbest feature"
   ]
  },
  {
   "cell_type": "code",
   "execution_count": 88,
   "id": "6c72fcb1",
   "metadata": {},
   "outputs": [],
   "source": [
    "from sklearn.feature_selection import SelectKBest, f_classif"
   ]
  },
  {
   "cell_type": "code",
   "execution_count": 89,
   "id": "4022f30b",
   "metadata": {},
   "outputs": [],
   "source": [
    "bestfeat = SelectKBest(score_func = f_classif, k=3)\n",
    "fit = bestfeat.fit(x,y)\n",
    "dfscores = pd.DataFrame(fit.scores_)\n",
    "dfcolumns = pd.DataFrame(x.columns)"
   ]
  },
  {
   "cell_type": "code",
   "execution_count": 90,
   "id": "844d8bbf",
   "metadata": {},
   "outputs": [
    {
     "name": "stdout",
     "output_type": "stream",
     "text": [
      "    Features     Score\n",
      "0         TV  3.672431\n",
      "1      radio  1.733126\n",
      "2  newspaper  1.259850\n"
     ]
    }
   ],
   "source": [
    "fit = bestfeat.fit(x,y)\n",
    "dfscores = pd.DataFrame(fit.scores_)\n",
    "dfcolumns = pd.DataFrame(x.columns)\n",
    "dfcolumns.head()\n",
    "featureScores = pd.concat([dfcolumns,dfscores],axis = 1)\n",
    "featureScores.columns = ['Features','Score']\n",
    "print(featureScores.nlargest(10,'Score'))"
   ]
  },
  {
   "cell_type": "markdown",
   "id": "33d26acd",
   "metadata": {},
   "source": [
    "# Regression Model Building"
   ]
  },
  {
   "cell_type": "code",
   "execution_count": 91,
   "id": "af7f93da",
   "metadata": {},
   "outputs": [],
   "source": [
    "from sklearn.model_selection import train_test_split"
   ]
  },
  {
   "cell_type": "code",
   "execution_count": 92,
   "id": "63486ac7",
   "metadata": {},
   "outputs": [],
   "source": [
    "x_train,x_test,y_train,y_test = train_test_split(scaled_x,y,test_size = .31, random_state = 1)"
   ]
  },
  {
   "cell_type": "code",
   "execution_count": 93,
   "id": "8537f955",
   "metadata": {},
   "outputs": [],
   "source": [
    "from sklearn.model_selection import GridSearchCV\n",
    "from sklearn.linear_model import LinearRegression,Ridge, Lasso\n",
    "from sklearn.ensemble import RandomForestRegressor\n",
    "from xgboost import XGBRegressor\n",
    "from sklearn.svm import SVR\n",
    "from sklearn.metrics import r2_score,mean_squared_error"
   ]
  },
  {
   "cell_type": "code",
   "execution_count": 94,
   "id": "a984ccb2",
   "metadata": {},
   "outputs": [],
   "source": [
    "lr = LinearRegression()\n",
    "rf = RandomForestRegressor()\n",
    "xg = XGBRegressor()\n",
    "SV = SVR()\n",
    "r = Ridge()\n",
    "l = Lasso()"
   ]
  },
  {
   "cell_type": "markdown",
   "id": "23dfd1b0",
   "metadata": {},
   "source": [
    "# Training the model"
   ]
  },
  {
   "cell_type": "code",
   "execution_count": 96,
   "id": "c8ab00d1",
   "metadata": {},
   "outputs": [
    {
     "data": {
      "text/plain": [
       "Lasso()"
      ]
     },
     "execution_count": 96,
     "metadata": {},
     "output_type": "execute_result"
    }
   ],
   "source": [
    "lr.fit(x_train,y_train)\n",
    "rf.fit(x_train,y_train)\n",
    "xg.fit(x_train,y_train)\n",
    "SV.fit(x_train,y_train)\n",
    "r.fit(x_train,y_train)\n",
    "l.fit(x_train,y_train)"
   ]
  },
  {
   "cell_type": "markdown",
   "id": "e6decdec",
   "metadata": {},
   "source": [
    "All models have been trained\n",
    "\n",
    "# Linear Regression Model"
   ]
  },
  {
   "cell_type": "code",
   "execution_count": 98,
   "id": "f39373a7",
   "metadata": {},
   "outputs": [],
   "source": [
    "y_lr_pred = lr.predict(x_test)"
   ]
  },
  {
   "cell_type": "markdown",
   "id": "8a536444",
   "metadata": {},
   "source": [
    "# R2 Score"
   ]
  },
  {
   "cell_type": "code",
   "execution_count": 99,
   "id": "156307ae",
   "metadata": {},
   "outputs": [
    {
     "data": {
      "text/plain": [
       "0.9102155770997384"
      ]
     },
     "execution_count": 99,
     "metadata": {},
     "output_type": "execute_result"
    }
   ],
   "source": [
    "r2_score(y_test,y_lr_pred)"
   ]
  },
  {
   "cell_type": "markdown",
   "id": "df47b64c",
   "metadata": {},
   "source": [
    "Mean squared error"
   ]
  },
  {
   "cell_type": "code",
   "execution_count": 100,
   "id": "14ed5d0c",
   "metadata": {},
   "outputs": [
    {
     "data": {
      "text/plain": [
       "2.6204298548555975"
      ]
     },
     "execution_count": 100,
     "metadata": {},
     "output_type": "execute_result"
    }
   ],
   "source": [
    "mean_squared_error(y_test,y_lr_pred)"
   ]
  },
  {
   "cell_type": "markdown",
   "id": "99d0aa07",
   "metadata": {},
   "source": [
    "# Ridge Regression Model"
   ]
  },
  {
   "cell_type": "code",
   "execution_count": 101,
   "id": "c0c4ccf9",
   "metadata": {},
   "outputs": [],
   "source": [
    "y_r_pred = r.predict(x_test)"
   ]
  },
  {
   "cell_type": "markdown",
   "id": "79d68085",
   "metadata": {},
   "source": [
    "R2 Score"
   ]
  },
  {
   "cell_type": "code",
   "execution_count": 102,
   "id": "f3af87f0",
   "metadata": {},
   "outputs": [
    {
     "data": {
      "text/plain": [
       "0.9109459519350958"
      ]
     },
     "execution_count": 102,
     "metadata": {},
     "output_type": "execute_result"
    }
   ],
   "source": [
    "r2_score(y_test,y_r_pred)"
   ]
  },
  {
   "cell_type": "markdown",
   "id": "488e48bb",
   "metadata": {},
   "source": [
    "Mean Squared Error"
   ]
  },
  {
   "cell_type": "code",
   "execution_count": 103,
   "id": "b281fcbe",
   "metadata": {},
   "outputs": [
    {
     "data": {
      "text/plain": [
       "2.599113283873887"
      ]
     },
     "execution_count": 103,
     "metadata": {},
     "output_type": "execute_result"
    }
   ],
   "source": [
    "mean_squared_error(y_test,y_r_pred)"
   ]
  },
  {
   "cell_type": "markdown",
   "id": "d1510888",
   "metadata": {},
   "source": [
    "# Lasso Regression Model"
   ]
  },
  {
   "cell_type": "code",
   "execution_count": 104,
   "id": "6c5e78bc",
   "metadata": {},
   "outputs": [],
   "source": [
    "y_l_pred = l.predict(x_test)"
   ]
  },
  {
   "cell_type": "markdown",
   "id": "5f498045",
   "metadata": {},
   "source": [
    "R2 Score"
   ]
  },
  {
   "cell_type": "code",
   "execution_count": 105,
   "id": "138ef4bc",
   "metadata": {},
   "outputs": [
    {
     "data": {
      "text/plain": [
       "0.8355268339115316"
      ]
     },
     "execution_count": 105,
     "metadata": {},
     "output_type": "execute_result"
    }
   ],
   "source": [
    "r2_score(y_test,y_l_pred)"
   ]
  },
  {
   "cell_type": "code",
   "execution_count": 106,
   "id": "58511355",
   "metadata": {},
   "outputs": [
    {
     "data": {
      "text/plain": [
       "4.800280280462664"
      ]
     },
     "execution_count": 106,
     "metadata": {},
     "output_type": "execute_result"
    }
   ],
   "source": [
    "mean_squared_error(y_test,y_l_pred)"
   ]
  },
  {
   "cell_type": "markdown",
   "id": "030235f7",
   "metadata": {},
   "source": [
    "# Random Forest Regression Model"
   ]
  },
  {
   "cell_type": "code",
   "execution_count": 108,
   "id": "73006e27",
   "metadata": {},
   "outputs": [],
   "source": [
    "y_rf_pred = rf.predict(x_test)"
   ]
  },
  {
   "cell_type": "markdown",
   "id": "9e1d150e",
   "metadata": {},
   "source": [
    "R2 Score"
   ]
  },
  {
   "cell_type": "code",
   "execution_count": 109,
   "id": "ab67bb04",
   "metadata": {},
   "outputs": [
    {
     "data": {
      "text/plain": [
       "0.977837347861043"
      ]
     },
     "execution_count": 109,
     "metadata": {},
     "output_type": "execute_result"
    }
   ],
   "source": [
    "r2_score(y_test,y_rf_pred)"
   ]
  },
  {
   "cell_type": "code",
   "execution_count": 110,
   "id": "6e7e6952",
   "metadata": {},
   "outputs": [
    {
     "data": {
      "text/plain": [
       "0.6468346451612921"
      ]
     },
     "execution_count": 110,
     "metadata": {},
     "output_type": "execute_result"
    }
   ],
   "source": [
    "mean_squared_error(y_test,y_rf_pred)"
   ]
  },
  {
   "cell_type": "markdown",
   "id": "40509747",
   "metadata": {},
   "source": [
    "# XGB Regression Model"
   ]
  },
  {
   "cell_type": "code",
   "execution_count": 111,
   "id": "47127498",
   "metadata": {},
   "outputs": [],
   "source": [
    "y_xg_pred = xg.predict(x_test)"
   ]
  },
  {
   "cell_type": "markdown",
   "id": "4d9fd776",
   "metadata": {},
   "source": [
    "R2 Score"
   ]
  },
  {
   "cell_type": "code",
   "execution_count": 112,
   "id": "ce27be67",
   "metadata": {},
   "outputs": [
    {
     "data": {
      "text/plain": [
       "0.9691237997977404"
      ]
     },
     "execution_count": 112,
     "metadata": {},
     "output_type": "execute_result"
    }
   ],
   "source": [
    "r2_score(y_test,y_xg_pred)"
   ]
  },
  {
   "cell_type": "code",
   "execution_count": 113,
   "id": "fefb46f8",
   "metadata": {},
   "outputs": [
    {
     "data": {
      "text/plain": [
       "0.9011464817719917"
      ]
     },
     "execution_count": 113,
     "metadata": {},
     "output_type": "execute_result"
    }
   ],
   "source": [
    "mean_squared_error(y_test,y_xg_pred)"
   ]
  },
  {
   "cell_type": "markdown",
   "id": "6cc168b5",
   "metadata": {},
   "source": [
    "# Support Vector Regression Model"
   ]
  },
  {
   "cell_type": "code",
   "execution_count": 115,
   "id": "c7201e64",
   "metadata": {},
   "outputs": [],
   "source": [
    "y_sv_pred = SV.predict(x_test)"
   ]
  },
  {
   "cell_type": "markdown",
   "id": "c21f59b9",
   "metadata": {},
   "source": [
    "R2 Score"
   ]
  },
  {
   "cell_type": "code",
   "execution_count": 116,
   "id": "fb3ea63c",
   "metadata": {},
   "outputs": [
    {
     "data": {
      "text/plain": [
       "0.8892722133834817"
      ]
     },
     "execution_count": 116,
     "metadata": {},
     "output_type": "execute_result"
    }
   ],
   "source": [
    "r2_score(y_test,y_sv_pred)"
   ]
  },
  {
   "cell_type": "code",
   "execution_count": 117,
   "id": "ba80daa9",
   "metadata": {},
   "outputs": [
    {
     "data": {
      "text/plain": [
       "3.2316785967909745"
      ]
     },
     "execution_count": 117,
     "metadata": {},
     "output_type": "execute_result"
    }
   ],
   "source": [
    "mean_squared_error(y_test,y_sv_pred)"
   ]
  },
  {
   "cell_type": "markdown",
   "id": "e2cc5aaa",
   "metadata": {},
   "source": []
  },
  {
   "cell_type": "markdown",
   "id": "33e1b27c",
   "metadata": {},
   "source": [
    "# Model Cross Validation"
   ]
  },
  {
   "cell_type": "code",
   "execution_count": 118,
   "id": "b24aa34e",
   "metadata": {},
   "outputs": [],
   "source": [
    "from sklearn.model_selection import ShuffleSplit,cross_val_score"
   ]
  },
  {
   "cell_type": "markdown",
   "id": "33b2c82f",
   "metadata": {},
   "source": [
    "# Linear Regression"
   ]
  },
  {
   "cell_type": "code",
   "execution_count": 119,
   "id": "202b038b",
   "metadata": {},
   "outputs": [
    {
     "data": {
      "text/plain": [
       "0.8862147505839119"
      ]
     },
     "execution_count": 119,
     "metadata": {},
     "output_type": "execute_result"
    }
   ],
   "source": [
    "cross_val_score(lr,scaled_x,y,cv=5).mean()"
   ]
  },
  {
   "cell_type": "markdown",
   "id": "c7228d80",
   "metadata": {},
   "source": [
    "# Ridge Regression"
   ]
  },
  {
   "cell_type": "code",
   "execution_count": 120,
   "id": "c4b5945d",
   "metadata": {},
   "outputs": [
    {
     "data": {
      "text/plain": [
       "0.8863030144676898"
      ]
     },
     "execution_count": 120,
     "metadata": {},
     "output_type": "execute_result"
    }
   ],
   "source": [
    "cross_val_score(r,scaled_x,y,cv=5).mean()"
   ]
  },
  {
   "cell_type": "markdown",
   "id": "824b4ae0",
   "metadata": {},
   "source": [
    "# Random Forest Regression"
   ]
  },
  {
   "cell_type": "code",
   "execution_count": 122,
   "id": "6e3d973c",
   "metadata": {},
   "outputs": [
    {
     "data": {
      "text/plain": [
       "0.9756081709039005"
      ]
     },
     "execution_count": 122,
     "metadata": {},
     "output_type": "execute_result"
    }
   ],
   "source": [
    "cross_val_score(rf,scaled_x,y,cv=5).mean()"
   ]
  },
  {
   "cell_type": "markdown",
   "id": "e43df7a6",
   "metadata": {},
   "source": [
    "# Lasso Regression Model"
   ]
  },
  {
   "cell_type": "code",
   "execution_count": 123,
   "id": "eb34f7a2",
   "metadata": {},
   "outputs": [
    {
     "data": {
      "text/plain": [
       "0.8168183052726793"
      ]
     },
     "execution_count": 123,
     "metadata": {},
     "output_type": "execute_result"
    }
   ],
   "source": [
    "cross_val_score(l,scaled_x,y,cv=5).mean()"
   ]
  },
  {
   "cell_type": "markdown",
   "id": "a07962c7",
   "metadata": {},
   "source": [
    "# XGB Regression Model"
   ]
  },
  {
   "cell_type": "code",
   "execution_count": 124,
   "id": "d0fee579",
   "metadata": {},
   "outputs": [
    {
     "data": {
      "text/plain": [
       "0.9680093602530573"
      ]
     },
     "execution_count": 124,
     "metadata": {},
     "output_type": "execute_result"
    }
   ],
   "source": [
    "cross_val_score(xg,scaled_x,y,cv=5).mean()"
   ]
  },
  {
   "cell_type": "markdown",
   "id": "d7d93f6c",
   "metadata": {},
   "source": [
    "# SV Regression Model"
   ]
  },
  {
   "cell_type": "code",
   "execution_count": 125,
   "id": "93d1dbce",
   "metadata": {},
   "outputs": [
    {
     "data": {
      "text/plain": [
       "0.90339584840579"
      ]
     },
     "execution_count": 125,
     "metadata": {},
     "output_type": "execute_result"
    }
   ],
   "source": [
    "cross_val_score(SV,scaled_x,y,cv=5).mean()"
   ]
  },
  {
   "cell_type": "markdown",
   "id": "6f34b879",
   "metadata": {},
   "source": [
    "# Based on comparing accuracy score result with Cross Validation result, it is determined that XGB Regression is the best model.\n",
    "\n",
    "# Hyperparameter tuning\n",
    "\n",
    "# XGB Regression"
   ]
  },
  {
   "cell_type": "code",
   "execution_count": 126,
   "id": "6fb7bc29",
   "metadata": {},
   "outputs": [],
   "source": [
    "parameter = {'booster':[\"gbtree\",\"gblinear\"],'eta':[0.01,0.1,0.2,0.3],'min_child_weight':np.arange(5),'max_depth':[10,20,40,60,80],'subsample':[0.5,1]}"
   ]
  },
  {
   "cell_type": "code",
   "execution_count": 127,
   "id": "854d9c1a",
   "metadata": {},
   "outputs": [],
   "source": [
    "Gridcv = GridSearchCV(XGBRegressor(),parameter,cv=5,n_jobs = -1,verbose=1)"
   ]
  },
  {
   "cell_type": "code",
   "execution_count": 128,
   "id": "cf908501",
   "metadata": {},
   "outputs": [
    {
     "name": "stdout",
     "output_type": "stream",
     "text": [
      "Fitting 5 folds for each of 400 candidates, totalling 2000 fits\n"
     ]
    },
    {
     "data": {
      "text/plain": [
       "GridSearchCV(cv=5,\n",
       "             estimator=XGBRegressor(base_score=None, booster=None,\n",
       "                                    colsample_bylevel=None,\n",
       "                                    colsample_bynode=None,\n",
       "                                    colsample_bytree=None,\n",
       "                                    enable_categorical=False, gamma=None,\n",
       "                                    gpu_id=None, importance_type=None,\n",
       "                                    interaction_constraints=None,\n",
       "                                    learning_rate=None, max_delta_step=None,\n",
       "                                    max_depth=None, min_child_weight=None,\n",
       "                                    missing=nan, monotone_constraints=None,\n",
       "                                    n...\n",
       "                                    num_parallel_tree=None, predictor=None,\n",
       "                                    random_state=None, reg_alpha=None,\n",
       "                                    reg_lambda=None, scale_pos_weight=None,\n",
       "                                    subsample=None, tree_method=None,\n",
       "                                    validate_parameters=None, verbosity=None),\n",
       "             n_jobs=-1,\n",
       "             param_grid={'booster': ['gbtree', 'gblinear'],\n",
       "                         'eta': [0.01, 0.1, 0.2, 0.3],\n",
       "                         'max_depth': [10, 20, 40, 60, 80],\n",
       "                         'min_child_weight': array([0, 1, 2, 3, 4]),\n",
       "                         'subsample': [0.5, 1]},\n",
       "             verbose=1)"
      ]
     },
     "execution_count": 128,
     "metadata": {},
     "output_type": "execute_result"
    }
   ],
   "source": [
    "Gridcv.fit(x_train,y_train)"
   ]
  },
  {
   "cell_type": "code",
   "execution_count": 129,
   "id": "d6b14585",
   "metadata": {},
   "outputs": [
    {
     "data": {
      "text/plain": [
       "{'booster': 'gbtree',\n",
       " 'eta': 0.1,\n",
       " 'max_depth': 20,\n",
       " 'min_child_weight': 0,\n",
       " 'subsample': 0.5}"
      ]
     },
     "execution_count": 129,
     "metadata": {},
     "output_type": "execute_result"
    }
   ],
   "source": [
    "Gridcv.best_params_"
   ]
  },
  {
   "cell_type": "code",
   "execution_count": 130,
   "id": "c23bb907",
   "metadata": {},
   "outputs": [
    {
     "data": {
      "text/plain": [
       "XGBRegressor(base_score=0.5, booster='gbtree', colsample_bylevel=1,\n",
       "             colsample_bynode=1, colsample_bytree=1, enable_categorical=False,\n",
       "             eta=0.1, gamma=0, gpu_id=-1, importance_type=None,\n",
       "             interaction_constraints='', learning_rate=0.100000001,\n",
       "             max_delta_step=0, max_depth=20, min_child_weight=0, missing=nan,\n",
       "             monotone_constraints='()', n_estimators=100, n_jobs=4,\n",
       "             num_parallel_tree=1, predictor='auto', random_state=0, reg_alpha=0,\n",
       "             reg_lambda=1, scale_pos_weight=1, subsample=0.5,\n",
       "             tree_method='exact', validate_parameters=1, verbosity=None)"
      ]
     },
     "execution_count": 130,
     "metadata": {},
     "output_type": "execute_result"
    }
   ],
   "source": [
    "best_mod = XGBRegressor(booster = 'gbtree',eta = 0.1,max_depth = 20,min_child_weight = 0,subsample = 0.5)\n",
    "best_mod.fit(x_train,y_train)"
   ]
  },
  {
   "cell_type": "code",
   "execution_count": 131,
   "id": "91254b98",
   "metadata": {},
   "outputs": [
    {
     "name": "stdout",
     "output_type": "stream",
     "text": [
      "98.33832409190244\n"
     ]
    }
   ],
   "source": [
    "xgbpred = best_mod.predict(x_test)\n",
    "acc = r2_score(y_test,xgbpred)\n",
    "print(acc*100)"
   ]
  },
  {
   "cell_type": "markdown",
   "id": "9c698662",
   "metadata": {},
   "source": [
    "# XGB Regressor has score 98.33%"
   ]
  },
  {
   "cell_type": "markdown",
   "id": "bf37f293",
   "metadata": {},
   "source": [
    "# Random Forest Regressor"
   ]
  },
  {
   "cell_type": "code",
   "execution_count": 132,
   "id": "f6b65baa",
   "metadata": {},
   "outputs": [],
   "source": [
    "parameters = {'n_estimators':[30,60],'max_depth':[10,20,40],'min_samples_leaf':[5,10,20],'min_samples_split':[5,10],'criterion':['mse','mae'],'max_features':[\"auto\",\"sqrt\",\"log2\"]}"
   ]
  },
  {
   "cell_type": "code",
   "execution_count": 133,
   "id": "34d3b640",
   "metadata": {},
   "outputs": [],
   "source": [
    "Gridcv = GridSearchCV(RandomForestRegressor(),parameters, cv=5, n_jobs=-1,verbose = 1)"
   ]
  },
  {
   "cell_type": "code",
   "execution_count": 135,
   "id": "28df65b6",
   "metadata": {},
   "outputs": [
    {
     "name": "stdout",
     "output_type": "stream",
     "text": [
      "Fitting 5 folds for each of 216 candidates, totalling 1080 fits\n"
     ]
    },
    {
     "data": {
      "text/plain": [
       "GridSearchCV(cv=5, estimator=RandomForestRegressor(), n_jobs=-1,\n",
       "             param_grid={'criterion': ['mse', 'mae'], 'max_depth': [10, 20, 40],\n",
       "                         'max_features': ['auto', 'sqrt', 'log2'],\n",
       "                         'min_samples_leaf': [5, 10, 20],\n",
       "                         'min_samples_split': [5, 10],\n",
       "                         'n_estimators': [30, 60]},\n",
       "             verbose=1)"
      ]
     },
     "execution_count": 135,
     "metadata": {},
     "output_type": "execute_result"
    }
   ],
   "source": [
    "Gridcv.fit(x_train,y_train)"
   ]
  },
  {
   "cell_type": "code",
   "execution_count": 136,
   "id": "ff929765",
   "metadata": {},
   "outputs": [
    {
     "data": {
      "text/plain": [
       "{'criterion': 'mae',\n",
       " 'max_depth': 40,\n",
       " 'max_features': 'auto',\n",
       " 'min_samples_leaf': 5,\n",
       " 'min_samples_split': 5,\n",
       " 'n_estimators': 60}"
      ]
     },
     "execution_count": 136,
     "metadata": {},
     "output_type": "execute_result"
    }
   ],
   "source": [
    "Gridcv.best_params_"
   ]
  },
  {
   "cell_type": "code",
   "execution_count": 138,
   "id": "17f6a884",
   "metadata": {},
   "outputs": [],
   "source": [
    "best_mod2 = RandomForestRegressor(n_estimators = 60,criterion = 'mae',max_depth = 40,max_features = 'auto',min_samples_leaf = 5,min_samples_split=5) "
   ]
  },
  {
   "cell_type": "code",
   "execution_count": 139,
   "id": "d58afb97",
   "metadata": {},
   "outputs": [
    {
     "data": {
      "text/plain": [
       "RandomForestRegressor(criterion='mae', max_depth=40, min_samples_leaf=5,\n",
       "                      min_samples_split=5, n_estimators=60)"
      ]
     },
     "execution_count": 139,
     "metadata": {},
     "output_type": "execute_result"
    }
   ],
   "source": [
    "best_mod2.fit(x_train,y_train)"
   ]
  },
  {
   "cell_type": "code",
   "execution_count": 141,
   "id": "cc2b87d3",
   "metadata": {},
   "outputs": [
    {
     "name": "stdout",
     "output_type": "stream",
     "text": [
      "93.8008973377354\n"
     ]
    }
   ],
   "source": [
    "rfpred = best_mod2.predict(x_test)\n",
    "acc = r2_score(y_test,rfpred)\n",
    "print(acc*100)"
   ]
  },
  {
   "cell_type": "markdown",
   "id": "8d4d5395",
   "metadata": {},
   "source": [
    "# Random Forest Regressor Score is 93.80%\n",
    "\n",
    "# Therefore XGBRegressor model is the best model"
   ]
  },
  {
   "cell_type": "code",
   "execution_count": 143,
   "id": "87752821",
   "metadata": {},
   "outputs": [
    {
     "data": {
      "text/plain": [
       "['BestModelAdvf.pkl']"
      ]
     },
     "execution_count": 143,
     "metadata": {},
     "output_type": "execute_result"
    }
   ],
   "source": [
    "# Saving the model\n",
    "\n",
    "import joblib\n",
    "\n",
    "joblib.dump(best_mod,\"BestModelAdvf.pkl\")"
   ]
  },
  {
   "cell_type": "markdown",
   "id": "d743a698",
   "metadata": {},
   "source": [
    "# Loading the model"
   ]
  },
  {
   "cell_type": "code",
   "execution_count": 145,
   "id": "bf4cd935",
   "metadata": {},
   "outputs": [],
   "source": [
    "mod = joblib.load('BestModelAdvf.pkl')"
   ]
  },
  {
   "cell_type": "code",
   "execution_count": 146,
   "id": "34522584",
   "metadata": {},
   "outputs": [
    {
     "name": "stdout",
     "output_type": "stream",
     "text": [
      "[12.002528  18.290016  13.400931   6.8776436 24.648434  17.337006\n",
      " 11.185491  13.060232  21.245358  15.553108  20.11355   14.968205\n",
      " 17.10218   18.569944  10.175474   6.775741   9.483882  23.107271\n",
      " 14.132323  18.501772  21.675472  22.935167  16.159458  12.223478\n",
      "  9.392511  10.118923  21.776134  10.352933  11.831842  19.08987\n",
      " 15.578061   8.392355   7.971705  10.160602  16.425394  20.267618\n",
      " 10.185053  12.570906  10.853753  14.736052  19.104973   5.502089\n",
      " 14.217622  18.927135  11.794735  18.366917  16.902523  17.018227\n",
      " 10.740648  11.034106  16.748314  11.435119   7.3962617  9.026413\n",
      " 16.940374  25.176386  14.859114  13.507895  24.608152  19.080517\n",
      "  5.9071417 24.76901  ]\n"
     ]
    }
   ],
   "source": [
    "print(mod.predict(x_test))"
   ]
  },
  {
   "cell_type": "code",
   "execution_count": null,
   "id": "7f548545",
   "metadata": {},
   "outputs": [],
   "source": []
  }
 ],
 "metadata": {
  "kernelspec": {
   "display_name": "Python 3",
   "language": "python",
   "name": "python3"
  },
  "language_info": {
   "codemirror_mode": {
    "name": "ipython",
    "version": 3
   },
   "file_extension": ".py",
   "mimetype": "text/x-python",
   "name": "python",
   "nbconvert_exporter": "python",
   "pygments_lexer": "ipython3",
   "version": "3.8.8"
  }
 },
 "nbformat": 4,
 "nbformat_minor": 5
}
